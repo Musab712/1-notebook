{
 "cells": [
  {
   "cell_type": "markdown",
   "id": "eb3a38da-ac3e-4a00-9b4f-3d6721ef2135",
   "metadata": {},
   "source": [
    "<h1>Data Science Tools and Ecosystem</h1>"
   ]
  },
  {
   "cell_type": "markdown",
   "id": "2f2f842b-b0ca-4309-919e-76150dd155bb",
   "metadata": {},
   "source": [
    "In this notebook, Data Science Tools and Ecosystem are summarized.\n",
    "<h3>Objectives:</h3>\n",
    "\n",
    "<ul>\n",
    "    <li>List of languages that Data Scientists use</li>\n",
    "    <li>List commonly used libraries used by Data Scientists.</li>\n",
    "</ul>\n"
   ]
  },
  {
   "cell_type": "markdown",
   "id": "b4969456-c0b0-4d58-86f9-89bff75a16cb",
   "metadata": {},
   "source": [
    "Some of the popular languages that Data Scientists use are:\n",
    "<ol>\n",
    "    <li>RStudio</li>\n",
    "    <li>Python</li>\n",
    "    <li>Scala</li>\n",
    "</ol>    "
   ]
  },
  {
   "cell_type": "markdown",
   "id": "4c50ac64-8235-4b5e-b132-ff95762a1e86",
   "metadata": {},
   "source": [
    "Some of the commonly used libraries used by Data Scientists include:\n",
    "<ol>\n",
    "    <li>Tensor Flow</li>\n",
    "    <li>NumPy</li>\n",
    "    <li>SciPy</li>\n",
    "</ol>"
   ]
  },
  {
   "cell_type": "markdown",
   "id": "87645cae-e815-4aa5-aef4-d8a9c678d894",
   "metadata": {},
   "source": [
    " <table>\n",
    "    <tr>\n",
    "      <th>Data Science Tools</th>\n",
    "    </tr>\n",
    "      <tr>\n",
    "        <td>SAS. It is one of those data science tools which are specifically designed for statistical operation</td>\n",
    "      </tr>\n",
    "      <tr>\n",
    "        <td>Apache Spark</td>\n",
    "      </tr>\n",
    "      <tr>\n",
    "        <td>BigML</td>\n",
    "    </table>"
   ]
  },
  {
   "cell_type": "markdown",
   "id": "99b605c5-f88b-4fa2-a7f9-0a8a4c0bba2c",
   "metadata": {},
   "source": [
    "<h3>Below are a few examples of evaluating arithmetic expressions in Python</h3>\n"
   ]
  },
  {
   "cell_type": "code",
   "execution_count": 4,
   "id": "00bb4a10-b6fe-4282-b43e-314c5e1c372e",
   "metadata": {
    "tags": []
   },
   "outputs": [
    {
     "data": {
      "text/plain": [
       "17"
      ]
     },
     "execution_count": 4,
     "metadata": {},
     "output_type": "execute_result"
    }
   ],
   "source": [
    "#This a simple arithmetic expression to mutiply then add integers\n",
    "(3*4)+5"
   ]
  },
  {
   "cell_type": "code",
   "execution_count": 5,
   "id": "44a8c072-9822-4ebe-8927-2ceadc587291",
   "metadata": {
    "tags": []
   },
   "outputs": [
    {
     "data": {
      "text/plain": [
       "3.3333333333333335"
      ]
     },
     "execution_count": 5,
     "metadata": {},
     "output_type": "execute_result"
    }
   ],
   "source": [
    "#This will convert 200 minutes to hours by diving by 60\n",
    "200/60"
   ]
  },
  {
   "cell_type": "markdown",
   "id": "ce864725-e713-48c5-87c3-4fcb0a38e1c2",
   "metadata": {},
   "source": [
    "<h2>Author</h2>\n",
    "Musab Umair"
   ]
  },
  {
   "cell_type": "code",
   "execution_count": null,
   "id": "be7fa660-8133-445b-8aab-21c6432cd71b",
   "metadata": {},
   "outputs": [],
   "source": []
  }
 ],
 "metadata": {
  "kernelspec": {
   "display_name": "Python",
   "language": "python",
   "name": "conda-env-python-py"
  },
  "language_info": {
   "codemirror_mode": {
    "name": "ipython",
    "version": 3
   },
   "file_extension": ".py",
   "mimetype": "text/x-python",
   "name": "python",
   "nbconvert_exporter": "python",
   "pygments_lexer": "ipython3",
   "version": "3.7.12"
  }
 },
 "nbformat": 4,
 "nbformat_minor": 5
}
